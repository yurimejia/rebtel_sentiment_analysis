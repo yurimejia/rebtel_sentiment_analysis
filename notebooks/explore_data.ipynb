{
 "cells": [
  {
   "cell_type": "code",
   "execution_count": 1,
   "metadata": {
    "collapsed": false
   },
   "outputs": [],
   "source": [
    "import numpy as np\n",
    "import pandas as pd\n",
    "import os\n",
    "import json\n",
    "import time\n",
    "import matplotlib.pyplot as plt\n",
    "import datetime"
   ]
  },
  {
   "cell_type": "code",
   "execution_count": 2,
   "metadata": {
    "collapsed": false
   },
   "outputs": [],
   "source": [
    "os.getcwd()\n",
    "os.chdir('/home/yuri/Dropbox/Compartido/Projects_professional/kpn/')"
   ]
  },
  {
   "cell_type": "code",
   "execution_count": 3,
   "metadata": {
    "collapsed": false
   },
   "outputs": [],
   "source": [
    "# Load raw data\n",
    "file_name = 'data/rawdata_20170620.json'\n",
    "with open(file_name) as json_data:\n",
    "    data = json.load(json_data)"
   ]
  },
  {
   "cell_type": "code",
   "execution_count": 4,
   "metadata": {
    "collapsed": false
   },
   "outputs": [
    {
     "data": {
      "text/html": [
       "<div>\n",
       "<table border=\"1\" class=\"dataframe\">\n",
       "  <thead>\n",
       "    <tr style=\"text-align: right;\">\n",
       "      <th></th>\n",
       "      <th>answer</th>\n",
       "      <th>date</th>\n",
       "      <th>stars</th>\n",
       "      <th>text</th>\n",
       "      <th>title</th>\n",
       "      <th>user</th>\n",
       "      <th>user_id</th>\n",
       "      <th>verify</th>\n",
       "    </tr>\n",
       "  </thead>\n",
       "  <tbody>\n",
       "    <tr>\n",
       "      <th>2234</th>\n",
       "      <td>Dear Ankit Kumar,We just replied to your messa...</td>\n",
       "      <td>2017-06-04 07:29:26</td>\n",
       "      <td>1</td>\n",
       "      <td>Fake Fraud HorribleReceipt no: ba850a45-79ae-4...</td>\n",
       "      <td>Fake Fraud Horrible</td>\n",
       "      <td>Ankit Kumar Tripathi</td>\n",
       "      <td>5933b6d40000ff000a9fa719</td>\n",
       "      <td>False</td>\n",
       "    </tr>\n",
       "    <tr>\n",
       "      <th>2235</th>\n",
       "      <td>Dear Abe Tan,We just replied to your private m...</td>\n",
       "      <td>2017-06-04 06:30:46</td>\n",
       "      <td>1</td>\n",
       "      <td>I have been using rebtel for a longtime now. T...</td>\n",
       "      <td>I have been using rebtel for a longtime …</td>\n",
       "      <td>Abe Tan</td>\n",
       "      <td>5933a90d0000ff000a9fa49d</td>\n",
       "      <td>False</td>\n",
       "    </tr>\n",
       "    <tr>\n",
       "      <th>2236</th>\n",
       "      <td>Hi Harshita,Have you been in touch with our su...</td>\n",
       "      <td>2017-06-03 04:14:38</td>\n",
       "      <td>1</td>\n",
       "      <td>I was trying to call from Sweden to India from...</td>\n",
       "      <td>I was trying to call from Sweden to …</td>\n",
       "      <td>Harshita Mahajan</td>\n",
       "      <td>593237850000ff000a9f5f83</td>\n",
       "      <td>False</td>\n",
       "    </tr>\n",
       "    <tr>\n",
       "      <th>2237</th>\n",
       "      <td>Dear Rajib,We have now refunded the payment to...</td>\n",
       "      <td>2017-06-02 12:09:34</td>\n",
       "      <td>1</td>\n",
       "      <td>Could not provide service, but declined to giv...</td>\n",
       "      <td>Very bad. Money grabber..</td>\n",
       "      <td>Rajib Pal</td>\n",
       "      <td>593155700000ff000a9f1ae6</td>\n",
       "      <td>False</td>\n",
       "    </tr>\n",
       "    <tr>\n",
       "      <th>2238</th>\n",
       "      <td>Hi Ishrat,Thanks for sharing with us! We’re su...</td>\n",
       "      <td>2017-05-31 20:40:20</td>\n",
       "      <td>4</td>\n",
       "      <td>the service was great and they get back to me ...</td>\n",
       "      <td>review</td>\n",
       "      <td>Ishrat Z</td>\n",
       "      <td>592f2a340000ff000a9e7d77</td>\n",
       "      <td>True</td>\n",
       "    </tr>\n",
       "  </tbody>\n",
       "</table>\n",
       "</div>"
      ],
      "text/plain": [
       "                                                 answer                 date  \\\n",
       "2234  Dear Ankit Kumar,We just replied to your messa...  2017-06-04 07:29:26   \n",
       "2235  Dear Abe Tan,We just replied to your private m...  2017-06-04 06:30:46   \n",
       "2236  Hi Harshita,Have you been in touch with our su...  2017-06-03 04:14:38   \n",
       "2237  Dear Rajib,We have now refunded the payment to...  2017-06-02 12:09:34   \n",
       "2238  Hi Ishrat,Thanks for sharing with us! We’re su...  2017-05-31 20:40:20   \n",
       "\n",
       "      stars                                               text  \\\n",
       "2234      1  Fake Fraud HorribleReceipt no: ba850a45-79ae-4...   \n",
       "2235      1  I have been using rebtel for a longtime now. T...   \n",
       "2236      1  I was trying to call from Sweden to India from...   \n",
       "2237      1  Could not provide service, but declined to giv...   \n",
       "2238      4  the service was great and they get back to me ...   \n",
       "\n",
       "                                          title                  user  \\\n",
       "2234                        Fake Fraud Horrible  Ankit Kumar Tripathi   \n",
       "2235  I have been using rebtel for a longtime …               Abe Tan   \n",
       "2236      I was trying to call from Sweden to …      Harshita Mahajan   \n",
       "2237                  Very bad. Money grabber..             Rajib Pal   \n",
       "2238                                     review              Ishrat Z   \n",
       "\n",
       "                       user_id verify  \n",
       "2234  5933b6d40000ff000a9fa719  False  \n",
       "2235  5933a90d0000ff000a9fa49d  False  \n",
       "2236  593237850000ff000a9f5f83  False  \n",
       "2237  593155700000ff000a9f1ae6  False  \n",
       "2238  592f2a340000ff000a9e7d77   True  "
      ]
     },
     "execution_count": 4,
     "metadata": {},
     "output_type": "execute_result"
    }
   ],
   "source": [
    "df0 = pd.DataFrame(data)\n",
    "df0.head(3)\n",
    "df0.tail(5)"
   ]
  },
  {
   "cell_type": "code",
   "execution_count": 5,
   "metadata": {
    "collapsed": false
   },
   "outputs": [
    {
     "data": {
      "text/plain": [
       "(2239, 8)"
      ]
     },
     "execution_count": 5,
     "metadata": {},
     "output_type": "execute_result"
    }
   ],
   "source": [
    "df0.shape"
   ]
  },
  {
   "cell_type": "code",
   "execution_count": 6,
   "metadata": {
    "collapsed": false
   },
   "outputs": [
    {
     "data": {
      "text/plain": [
       "answer     object\n",
       "date       object\n",
       "stars       int64\n",
       "text       object\n",
       "title      object\n",
       "user       object\n",
       "user_id    object\n",
       "verify       bool\n",
       "dtype: object"
      ]
     },
     "execution_count": 6,
     "metadata": {},
     "output_type": "execute_result"
    }
   ],
   "source": [
    "df0.dtypes"
   ]
  },
  {
   "cell_type": "code",
   "execution_count": 7,
   "metadata": {
    "collapsed": false
   },
   "outputs": [
    {
     "data": {
      "text/plain": [
       "20"
      ]
     },
     "execution_count": 7,
     "metadata": {},
     "output_type": "execute_result"
    }
   ],
   "source": [
    "df0.duplicated().sum()"
   ]
  },
  {
   "cell_type": "code",
   "execution_count": 8,
   "metadata": {
    "collapsed": true
   },
   "outputs": [],
   "source": [
    "# drop duplicated rows/reviews\n",
    "df = df0.drop_duplicates()"
   ]
  },
  {
   "cell_type": "code",
   "execution_count": 9,
   "metadata": {
    "collapsed": false
   },
   "outputs": [
    {
     "data": {
      "text/html": [
       "<div>\n",
       "<table border=\"1\" class=\"dataframe\">\n",
       "  <thead>\n",
       "    <tr style=\"text-align: right;\">\n",
       "      <th></th>\n",
       "      <th>stars</th>\n",
       "    </tr>\n",
       "  </thead>\n",
       "  <tbody>\n",
       "    <tr>\n",
       "      <th>count</th>\n",
       "      <td>2219.000000</td>\n",
       "    </tr>\n",
       "    <tr>\n",
       "      <th>mean</th>\n",
       "      <td>3.783686</td>\n",
       "    </tr>\n",
       "    <tr>\n",
       "      <th>std</th>\n",
       "      <td>1.466514</td>\n",
       "    </tr>\n",
       "    <tr>\n",
       "      <th>min</th>\n",
       "      <td>1.000000</td>\n",
       "    </tr>\n",
       "    <tr>\n",
       "      <th>25%</th>\n",
       "      <td>3.000000</td>\n",
       "    </tr>\n",
       "    <tr>\n",
       "      <th>50%</th>\n",
       "      <td>4.000000</td>\n",
       "    </tr>\n",
       "    <tr>\n",
       "      <th>75%</th>\n",
       "      <td>5.000000</td>\n",
       "    </tr>\n",
       "    <tr>\n",
       "      <th>max</th>\n",
       "      <td>5.000000</td>\n",
       "    </tr>\n",
       "  </tbody>\n",
       "</table>\n",
       "</div>"
      ],
      "text/plain": [
       "             stars\n",
       "count  2219.000000\n",
       "mean      3.783686\n",
       "std       1.466514\n",
       "min       1.000000\n",
       "25%       3.000000\n",
       "50%       4.000000\n",
       "75%       5.000000\n",
       "max       5.000000"
      ]
     },
     "execution_count": 9,
     "metadata": {},
     "output_type": "execute_result"
    }
   ],
   "source": [
    "df.describe()"
   ]
  },
  {
   "cell_type": "code",
   "execution_count": 10,
   "metadata": {
    "collapsed": false
   },
   "outputs": [
    {
     "data": {
      "text/plain": [
       "<matplotlib.axes._subplots.AxesSubplot at 0x7f34698d8358>"
      ]
     },
     "execution_count": 10,
     "metadata": {},
     "output_type": "execute_result"
    },
    {
     "data": {
      "image/png": "[encoded data removed]",
      "text/plain": [
       "<matplotlib.figure.Figure at 0x7f348d33a358>"
      ]
     },
     "metadata": {},
     "output_type": "display_data"
    }
   ],
   "source": [
    "%matplotlib inline\n",
    "df['stars'].hist(bins= np.linspace(0.5, 5.5, num = 6))"
   ]
  },
  {
   "cell_type": "code",
   "execution_count": 11,
   "metadata": {
    "collapsed": false
   },
   "outputs": [
    {
     "data": {
      "text/plain": [
       "array([<matplotlib.axes._subplots.AxesSubplot object at 0x7f3466580748>,\n",
       "       <matplotlib.axes._subplots.AxesSubplot object at 0x7f34664e27f0>], dtype=object)"
      ]
     },
     "execution_count": 11,
     "metadata": {},
     "output_type": "execute_result"
    },
    {
     "data": {
      "image/png": "[encoded data removed]",
      "text/plain": [
       "<matplotlib.figure.Figure at 0x7f3466566ac8>"
      ]
     },
     "metadata": {},
     "output_type": "display_data"
    }
   ],
   "source": [
    "df['stars'].hist(by = df['verify'])"
   ]
  },
  {
   "cell_type": "code",
   "execution_count": 79,
   "metadata": {
    "collapsed": false
   },
   "outputs": [
    {
     "data": {
      "text/html": [
       "<div>\n",
       "<table border=\"1\" class=\"dataframe\">\n",
       "  <thead>\n",
       "    <tr style=\"text-align: right;\">\n",
       "      <th></th>\n",
       "      <th></th>\n",
       "      <th>stars</th>\n",
       "    </tr>\n",
       "    <tr>\n",
       "      <th>verify</th>\n",
       "      <th></th>\n",
       "      <th></th>\n",
       "    </tr>\n",
       "  </thead>\n",
       "  <tbody>\n",
       "    <tr>\n",
       "      <th rowspan=\"8\" valign=\"top\">False</th>\n",
       "      <th>count</th>\n",
       "      <td>495.000000</td>\n",
       "    </tr>\n",
       "    <tr>\n",
       "      <th>mean</th>\n",
       "      <td>2.458586</td>\n",
       "    </tr>\n",
       "    <tr>\n",
       "      <th>std</th>\n",
       "      <td>1.722030</td>\n",
       "    </tr>\n",
       "    <tr>\n",
       "      <th>min</th>\n",
       "      <td>1.000000</td>\n",
       "    </tr>\n",
       "    <tr>\n",
       "      <th>25%</th>\n",
       "      <td>1.000000</td>\n",
       "    </tr>\n",
       "    <tr>\n",
       "      <th>50%</th>\n",
       "      <td>1.000000</td>\n",
       "    </tr>\n",
       "    <tr>\n",
       "      <th>75%</th>\n",
       "      <td>5.000000</td>\n",
       "    </tr>\n",
       "    <tr>\n",
       "      <th>max</th>\n",
       "      <td>5.000000</td>\n",
       "    </tr>\n",
       "    <tr>\n",
       "      <th rowspan=\"8\" valign=\"top\">True</th>\n",
       "      <th>count</th>\n",
       "      <td>1724.000000</td>\n",
       "    </tr>\n",
       "    <tr>\n",
       "      <th>mean</th>\n",
       "      <td>4.164153</td>\n",
       "    </tr>\n",
       "    <tr>\n",
       "      <th>std</th>\n",
       "      <td>1.126514</td>\n",
       "    </tr>\n",
       "    <tr>\n",
       "      <th>min</th>\n",
       "      <td>1.000000</td>\n",
       "    </tr>\n",
       "    <tr>\n",
       "      <th>25%</th>\n",
       "      <td>4.000000</td>\n",
       "    </tr>\n",
       "    <tr>\n",
       "      <th>50%</th>\n",
       "      <td>5.000000</td>\n",
       "    </tr>\n",
       "    <tr>\n",
       "      <th>75%</th>\n",
       "      <td>5.000000</td>\n",
       "    </tr>\n",
       "    <tr>\n",
       "      <th>max</th>\n",
       "      <td>5.000000</td>\n",
       "    </tr>\n",
       "  </tbody>\n",
       "</table>\n",
       "</div>"
      ],
      "text/plain": [
       "                    stars\n",
       "verify                   \n",
       "False  count   495.000000\n",
       "       mean      2.458586\n",
       "       std       1.722030\n",
       "       min       1.000000\n",
       "       25%       1.000000\n",
       "       50%       1.000000\n",
       "       75%       5.000000\n",
       "       max       5.000000\n",
       "True   count  1724.000000\n",
       "       mean      4.164153\n",
       "       std       1.126514\n",
       "       min       1.000000\n",
       "       25%       4.000000\n",
       "       50%       5.000000\n",
       "       75%       5.000000\n",
       "       max       5.000000"
      ]
     },
     "execution_count": 79,
     "metadata": {},
     "output_type": "execute_result"
    }
   ],
   "source": [
    "df.groupby('verify').describe()"
   ]
  },
  {
   "cell_type": "code",
   "execution_count": 12,
   "metadata": {
    "collapsed": false
   },
   "outputs": [
    {
     "data": {
      "text/html": [
       "<div>\n",
       "<table border=\"1\" class=\"dataframe\">\n",
       "  <thead>\n",
       "    <tr style=\"text-align: right;\">\n",
       "      <th></th>\n",
       "      <th>answer</th>\n",
       "      <th>date</th>\n",
       "      <th>text</th>\n",
       "      <th>title</th>\n",
       "      <th>user</th>\n",
       "      <th>user_id</th>\n",
       "      <th>verify</th>\n",
       "    </tr>\n",
       "    <tr>\n",
       "      <th>stars</th>\n",
       "      <th></th>\n",
       "      <th></th>\n",
       "      <th></th>\n",
       "      <th></th>\n",
       "      <th></th>\n",
       "      <th></th>\n",
       "      <th></th>\n",
       "    </tr>\n",
       "  </thead>\n",
       "  <tbody>\n",
       "    <tr>\n",
       "      <th>1</th>\n",
       "      <td>326</td>\n",
       "      <td>346</td>\n",
       "      <td>346</td>\n",
       "      <td>346</td>\n",
       "      <td>346</td>\n",
       "      <td>346</td>\n",
       "      <td>346</td>\n",
       "    </tr>\n",
       "    <tr>\n",
       "      <th>2</th>\n",
       "      <td>106</td>\n",
       "      <td>125</td>\n",
       "      <td>125</td>\n",
       "      <td>125</td>\n",
       "      <td>125</td>\n",
       "      <td>125</td>\n",
       "      <td>125</td>\n",
       "    </tr>\n",
       "    <tr>\n",
       "      <th>3</th>\n",
       "      <td>105</td>\n",
       "      <td>226</td>\n",
       "      <td>226</td>\n",
       "      <td>226</td>\n",
       "      <td>226</td>\n",
       "      <td>226</td>\n",
       "      <td>226</td>\n",
       "    </tr>\n",
       "    <tr>\n",
       "      <th>4</th>\n",
       "      <td>47</td>\n",
       "      <td>488</td>\n",
       "      <td>488</td>\n",
       "      <td>488</td>\n",
       "      <td>488</td>\n",
       "      <td>488</td>\n",
       "      <td>488</td>\n",
       "    </tr>\n",
       "    <tr>\n",
       "      <th>5</th>\n",
       "      <td>91</td>\n",
       "      <td>1034</td>\n",
       "      <td>1034</td>\n",
       "      <td>1034</td>\n",
       "      <td>1034</td>\n",
       "      <td>1034</td>\n",
       "      <td>1034</td>\n",
       "    </tr>\n",
       "  </tbody>\n",
       "</table>\n",
       "</div>"
      ],
      "text/plain": [
       "       answer  date  text  title  user  user_id  verify\n",
       "stars                                                  \n",
       "1         326   346   346    346   346      346     346\n",
       "2         106   125   125    125   125      125     125\n",
       "3         105   226   226    226   226      226     226\n",
       "4          47   488   488    488   488      488     488\n",
       "5          91  1034  1034   1034  1034     1034    1034"
      ]
     },
     "execution_count": 12,
     "metadata": {},
     "output_type": "execute_result"
    }
   ],
   "source": [
    "df.groupby(['stars']).count()"
   ]
  },
  {
   "cell_type": "code",
   "execution_count": 13,
   "metadata": {
    "collapsed": false
   },
   "outputs": [],
   "source": [
    "df = df.assign(date = pd.to_datetime(df['date']))"
   ]
  },
  {
   "cell_type": "code",
   "execution_count": 14,
   "metadata": {
    "collapsed": false
   },
   "outputs": [
    {
     "data": {
      "text/plain": [
       "Timestamp('2011-04-15 13:10:24')"
      ]
     },
     "execution_count": 14,
     "metadata": {},
     "output_type": "execute_result"
    }
   ],
   "source": [
    "min(df.date)"
   ]
  },
  {
   "cell_type": "code",
   "execution_count": 15,
   "metadata": {
    "collapsed": false
   },
   "outputs": [
    {
     "data": {
      "text/plain": [
       "Timestamp('2017-06-20 20:22:59')"
      ]
     },
     "execution_count": 15,
     "metadata": {},
     "output_type": "execute_result"
    }
   ],
   "source": [
    "max(df.date)"
   ]
  },
  {
   "cell_type": "code",
   "execution_count": 16,
   "metadata": {
    "collapsed": false
   },
   "outputs": [],
   "source": [
    "df = df.assign(month = [x.month for x in df['date']])"
   ]
  },
  {
   "cell_type": "code",
   "execution_count": 17,
   "metadata": {
    "collapsed": false
   },
   "outputs": [],
   "source": [
    "df = df.assign(year = [x.year for x in df['date']])"
   ]
  },
  {
   "cell_type": "code",
   "execution_count": 18,
   "metadata": {
    "collapsed": true
   },
   "outputs": [],
   "source": [
    "labels = np.array([1 if x >= 4 else 0 for x in df['stars']]) + np.array([-1 if x <= 2 else 0 for x in df['stars']])\n",
    "df = df.assign(label = labels)"
   ]
  },
  {
   "cell_type": "code",
   "execution_count": 19,
   "metadata": {
    "collapsed": false
   },
   "outputs": [],
   "source": [
    "df_year_month = df.groupby(['year', 'month']).mean()"
   ]
  },
  {
   "cell_type": "code",
   "execution_count": 20,
   "metadata": {
    "collapsed": false
   },
   "outputs": [
    {
     "data": {
      "text/plain": [
       "<matplotlib.figure.Figure at 0x7f346646f9b0>"
      ]
     },
     "metadata": {},
     "output_type": "display_data"
    },
    {
     "data": {
      "image/png": "[encoded data removed]",
      "text/plain": [
       "<matplotlib.figure.Figure at 0x7f34664034e0>"
      ]
     },
     "metadata": {},
     "output_type": "display_data"
    }
   ],
   "source": [
    "plt.figure(); df_year_month.plot();"
   ]
  },
  {
   "cell_type": "code",
   "execution_count": 21,
   "metadata": {
    "collapsed": false
   },
   "outputs": [
    {
     "data": {
      "text/html": [
       "<div>\n",
       "<table border=\"1\" class=\"dataframe\">\n",
       "  <thead>\n",
       "    <tr style=\"text-align: right;\">\n",
       "      <th></th>\n",
       "      <th>answer</th>\n",
       "      <th>date</th>\n",
       "      <th>stars</th>\n",
       "      <th>text</th>\n",
       "      <th>title</th>\n",
       "      <th>user</th>\n",
       "      <th>user_id</th>\n",
       "      <th>verify</th>\n",
       "      <th>month</th>\n",
       "      <th>year</th>\n",
       "      <th>label</th>\n",
       "    </tr>\n",
       "  </thead>\n",
       "  <tbody>\n",
       "    <tr>\n",
       "      <th>0</th>\n",
       "      <td>None</td>\n",
       "      <td>2017-06-20 20:22:59</td>\n",
       "      <td>3</td>\n",
       "      <td>Missing a few issues. Export phone listMore he...</td>\n",
       "      <td>Missing a few issues</td>\n",
       "      <td>Otto</td>\n",
       "      <td>594984220000ff000aa60f48</td>\n",
       "      <td>True</td>\n",
       "      <td>6</td>\n",
       "      <td>2017</td>\n",
       "      <td>0</td>\n",
       "    </tr>\n",
       "    <tr>\n",
       "      <th>1</th>\n",
       "      <td>Hello JL,I have already located your complaint...</td>\n",
       "      <td>2017-06-20 02:38:57</td>\n",
       "      <td>1</td>\n",
       "      <td>Purchased 100 minutes as advertised, but after...</td>\n",
       "      <td>Its a scam, please avoid</td>\n",
       "      <td>JL</td>\n",
       "      <td>55fc31370000ff0001dcc729</td>\n",
       "      <td>False</td>\n",
       "      <td>6</td>\n",
       "      <td>2017</td>\n",
       "      <td>-1</td>\n",
       "    </tr>\n",
       "    <tr>\n",
       "      <th>2</th>\n",
       "      <td>Hi Gaurav,We’re sorry to hear you got discoura...</td>\n",
       "      <td>2017-06-18 08:18:32</td>\n",
       "      <td>1</td>\n",
       "      <td>I was about to subscribe for their service.. B...</td>\n",
       "      <td>I was about to subscribe for their …</td>\n",
       "      <td>Gaurav Singh</td>\n",
       "      <td>5946374e0000ff000aa505da</td>\n",
       "      <td>False</td>\n",
       "      <td>6</td>\n",
       "      <td>2017</td>\n",
       "      <td>-1</td>\n",
       "    </tr>\n",
       "  </tbody>\n",
       "</table>\n",
       "</div>"
      ],
      "text/plain": [
       "                                              answer                date  \\\n",
       "0                                               None 2017-06-20 20:22:59   \n",
       "1  Hello JL,I have already located your complaint... 2017-06-20 02:38:57   \n",
       "2  Hi Gaurav,We’re sorry to hear you got discoura... 2017-06-18 08:18:32   \n",
       "\n",
       "   stars                                               text  \\\n",
       "0      3  Missing a few issues. Export phone listMore he...   \n",
       "1      1  Purchased 100 minutes as advertised, but after...   \n",
       "2      1  I was about to subscribe for their service.. B...   \n",
       "\n",
       "                                  title          user  \\\n",
       "0                  Missing a few issues          Otto   \n",
       "1              Its a scam, please avoid            JL   \n",
       "2  I was about to subscribe for their …  Gaurav Singh   \n",
       "\n",
       "                    user_id verify  month  year  label  \n",
       "0  594984220000ff000aa60f48   True      6  2017      0  \n",
       "1  55fc31370000ff0001dcc729  False      6  2017     -1  \n",
       "2  5946374e0000ff000aa505da  False      6  2017     -1  "
      ]
     },
     "execution_count": 21,
     "metadata": {},
     "output_type": "execute_result"
    }
   ],
   "source": [
    "df.head(3)"
   ]
  },
  {
   "cell_type": "code",
   "execution_count": null,
   "metadata": {
    "collapsed": false
   },
   "outputs": [],
   "source": []
  },
  {
   "cell_type": "code",
   "execution_count": null,
   "metadata": {
    "collapsed": true
   },
   "outputs": [],
   "source": []
  }
 ],
 "metadata": {
  "kernelspec": {
   "display_name": "Python [kpn]",
   "language": "python",
   "name": "Python [kpn]"
  },
  "language_info": {
   "codemirror_mode": {
    "name": "ipython",
    "version": 3
   },
   "file_extension": ".py",
   "mimetype": "text/x-python",
   "name": "python",
   "nbconvert_exporter": "python",
   "pygments_lexer": "ipython3",
   "version": "3.4.5"
  }
 },
 "nbformat": 4,
 "nbformat_minor": 0
}
