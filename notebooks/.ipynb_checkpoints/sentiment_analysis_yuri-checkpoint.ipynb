{
 "cells": [
  {
   "cell_type": "markdown",
   "metadata": {},
   "source": [
    "# SENTIMENT ANALYSIS"
   ]
  },
  {
   "cell_type": "code",
   "execution_count": 236,
   "metadata": {
    "collapsed": true
   },
   "outputs": [],
   "source": [
    "# Code from http://streamhacker.com/2010/05/10/text-classification-sentiment-analysis-naive-bayes-classifier/\n",
    "import nltk.classify.util, nltk.metrics\n",
    "from nltk.classify import NaiveBayesClassifier\n",
    "from nltk.corpus import movie_reviews, stopwords\n",
    "import collections, itertools\n",
    "from nltk import scores\n",
    "import random\n",
    "from sklearn.cross_validation import train_test_split\n",
    "\n",
    "import itertools\n",
    "from nltk.collocations import BigramCollocationFinder\n",
    "from nltk.metrics import BigramAssocMeasures\n",
    "\n",
    "from nltk.probability import FreqDist, ConditionalFreqDist\n",
    "from numpy import mean\n",
    "import pandas as pd"
   ]
  },
  {
   "cell_type": "code",
   "execution_count": 61,
   "metadata": {
    "collapsed": false
   },
   "outputs": [],
   "source": [
    "random.seed(88)"
   ]
  },
  {
   "cell_type": "code",
   "execution_count": 255,
   "metadata": {
    "collapsed": false
   },
   "outputs": [],
   "source": [
    "# Function to evaluate features\n",
    "def evaluate_classifier_original(featx,                         \n",
    "                        negtrain,\n",
    "                        negtest,\n",
    "                        postrain, \n",
    "                        postest,\n",
    "                        bestwords):\n",
    "    \n",
    "    postrain_feats = [(featx(w, bestwords), 'pos') for w in postrain]\n",
    "    postest_feats  = [(featx(w, bestwords), 'pos') for w in postest]\n",
    "    negtrain_feats = [(featx(w, bestwords), 'neg') for w in negtrain]\n",
    "    negtest_feats  = [(featx(w, bestwords), 'neg') for w in negtest]   \n",
    "    \n",
    "    trainfeats = negtrain_feats + postrain_feats\n",
    "    testfeats = negtest_feats + postest_feats     \n",
    "        \n",
    "    classifier = NaiveBayesClassifier.train(trainfeats)\n",
    "    refsets = collections.defaultdict(set)\n",
    "    testsets = collections.defaultdict(set)\n",
    " \n",
    "    for i, (feats, label) in enumerate(testfeats):\n",
    "            refsets[label].add(i)\n",
    "            observed = classifier.classify(feats)\n",
    "            testsets[observed].add(i)\n",
    " \n",
    "    print('accuracy:' + str(nltk.classify.util.accuracy(classifier, testfeats)))\n",
    "    print('pos precision:'+ str(scores.precision(refsets['pos'], testsets['pos'])))\n",
    "    print('pos recall:' + str(scores.recall(refsets['pos'], testsets['pos'])))\n",
    "    print('neg precision:' + str(scores.precision(refsets['neg'], testsets['neg'])))\n",
    "    print('neg recall:' + str(scores.recall(refsets['neg'], testsets['neg'])))\n",
    "    classifier.show_most_informative_features()"
   ]
  },
  {
   "cell_type": "code",
   "execution_count": 223,
   "metadata": {
    "collapsed": true
   },
   "outputs": [],
   "source": [
    "# Function to evaluate features\n",
    "def evaluate_classifier(featx,                         \n",
    "                        negtrain,\n",
    "                        negtest,\n",
    "                        postrain, \n",
    "                        postest,\n",
    "                        bestwords):\n",
    "    \n",
    "    postrain_feats = [(featx(w, bestwords), 'pos') for w in postrain]\n",
    "    postest_feats  = [(featx(w, bestwords), 'pos') for w in postest]\n",
    "    negtrain_feats = [(featx(w, bestwords), 'neg') for w in negtrain]\n",
    "    negtest_feats  = [(featx(w, bestwords), 'neg') for w in negtest]    \n",
    "    \n",
    "    trainfeats = negtrain_feats + postrain_feats\n",
    "    testfeats = negtest_feats + postest_feats     \n",
    "        \n",
    "    classifier = NaiveBayesClassifier.train(trainfeats)\n",
    "    refsets = collections.defaultdict(set)\n",
    "    testsets = collections.defaultdict(set)\n",
    " \n",
    "    for i, (feats, label) in enumerate(testfeats):\n",
    "            refsets[label].add(i)\n",
    "            observed = classifier.classify(feats)\n",
    "            testsets[observed].add(i)\n",
    " \n",
    "    accuracy = nltk.classify.util.accuracy(classifier, testfeats)\n",
    "    pos_precision = scores.precision(refsets['pos'], testsets['pos'])\n",
    "    pos_recall = scores.recall(refsets['pos'], testsets['pos'])\n",
    "    neg_precision = scores.precision(refsets['neg'], testsets['neg'])\n",
    "    neg_recall = scores.recall(refsets['neg'], testsets['neg'])\n",
    "    return accuracy, pos_precision, pos_recall, neg_precision, neg_recall\n",
    "    "
   ]
  },
  {
   "cell_type": "markdown",
   "metadata": {},
   "source": [
    "# FEATURES"
   ]
  },
  {
   "cell_type": "code",
   "execution_count": 197,
   "metadata": {
    "collapsed": true
   },
   "outputs": [],
   "source": [
    "# Bag of words: All words\n",
    "def word_feats(words, bestwords):\n",
    "    return dict([(word, True) for word in words])"
   ]
  },
  {
   "cell_type": "code",
   "execution_count": 198,
   "metadata": {
    "collapsed": true
   },
   "outputs": [],
   "source": [
    "# Stopword filtering\n",
    "stop_set = set(stopwords.words('english')) \n",
    "def stopword_filtered_word_feats(words, bestwords, stopset = stop_set):\n",
    "    return dict([(word, True) for word in words if word not in stopset])"
   ]
  },
  {
   "cell_type": "code",
   "execution_count": 199,
   "metadata": {
    "collapsed": true
   },
   "outputs": [],
   "source": [
    "# Bigram Collocations\n",
    "def bigram_word_feats(words, bestwords, score_fn = BigramAssocMeasures.chi_sq, n = 200):\n",
    "    bigram_finder = BigramCollocationFinder.from_words(words)\n",
    "    bigrams = bigram_finder.nbest(score_fn, n)\n",
    "    return dict([(ngram, True) for ngram in itertools.chain(words, bigrams)])"
   ]
  },
  {
   "cell_type": "code",
   "execution_count": 219,
   "metadata": {
    "collapsed": false
   },
   "outputs": [],
   "source": [
    "# Eliminate Low Information Features\n",
    "# http://streamhacker.com/2010/06/16/text-classification-sentiment-analysis-eliminate-low-information-features/\n",
    "def get_best_words(neg_train, pos_train, best_n):\n",
    "    word_fd = FreqDist()\n",
    "    label_word_fd = ConditionalFreqDist()\n",
    "\n",
    "    for w in [word for review in neg_train for word in review]:\n",
    "        word_fd[w.lower()] += 1\n",
    "        label_word_fd['neg'][w.lower()] += 1\n",
    "\n",
    "    for word in [word for review in pos_train for word in review]:\n",
    "        word_fd[word.lower()] += 1\n",
    "        label_word_fd['pos'][word.lower()] += 1\n",
    "\n",
    "    pos_word_count = label_word_fd['pos'].N()\n",
    "    neg_word_count = label_word_fd['neg'].N()\n",
    "    total_word_count = pos_word_count + neg_word_count\n",
    "\n",
    "    word_scores = {}\n",
    "    for word, freq in word_fd.items():\n",
    "        pos_score = BigramAssocMeasures.chi_sq( \\\n",
    "            label_word_fd['pos'][word], \\\n",
    "            (freq, pos_word_count), \\\n",
    "            total_word_count)\n",
    "        neg_score = BigramAssocMeasures.chi_sq( \\\n",
    "            label_word_fd['neg'][word], \\\n",
    "            (freq, neg_word_count), \\\n",
    "            total_word_count)\n",
    "        word_scores[word] = pos_score + neg_score\n",
    "\n",
    "    best = sorted(word_scores.items(), \\\n",
    "                  key=lambda s: s[1], \\\n",
    "                  reverse=True)[:best_n]    \n",
    "    return set([w for w, s in best])\n",
    "    \n",
    "def best_word_feats(words, bestwords):\n",
    "    return dict([(word, True) for word in words if word in bestwords])"
   ]
  },
  {
   "cell_type": "code",
   "execution_count": 220,
   "metadata": {
    "collapsed": false
   },
   "outputs": [],
   "source": [
    "# Best words + bigram\n",
    "def best_bigram_word_feats(words, \n",
    "                           bestwords,\n",
    "                           score_fn = BigramAssocMeasures.chi_sq, \n",
    "                           n = 200):\n",
    "    bigram_finder = BigramCollocationFinder.from_words(words)\n",
    "    bigrams = bigram_finder.nbest(score_fn, n)\n",
    "    d = dict([(bigram, True) for bigram in bigrams])\n",
    "    d.update(best_word_feats(words, bestwords))\n",
    "    return d"
   ]
  },
  {
   "cell_type": "markdown",
   "metadata": {},
   "source": [
    "# DEVELOP MODEL"
   ]
  },
  {
   "cell_type": "code",
   "execution_count": 65,
   "metadata": {
    "collapsed": false
   },
   "outputs": [],
   "source": [
    "# Split review ids: positive vs negative\n",
    "neg_ids = movie_reviews.fileids('neg')\n",
    "pos_ids = movie_reviews.fileids('pos')"
   ]
  },
  {
   "cell_type": "code",
   "execution_count": 66,
   "metadata": {
    "collapsed": false
   },
   "outputs": [],
   "source": [
    "# Split review: positive vs negative\n",
    "neg_words = [movie_reviews.words(fileids=[f]) for f in negids]\n",
    "pos_words = [movie_reviews.words(fileids=[f]) for f in posids]"
   ]
  },
  {
   "cell_type": "code",
   "execution_count": 70,
   "metadata": {
    "collapsed": true
   },
   "outputs": [],
   "source": [
    "# Split data set: developing vs validation\n",
    "neg_develop, neg_val = train_test_split(neg_words, test_size=0.25)\n",
    "pos_develop, pos_val = train_test_split(pos_words, test_size=0.25)"
   ]
  },
  {
   "cell_type": "code",
   "execution_count": 202,
   "metadata": {
    "collapsed": false
   },
   "outputs": [],
   "source": [
    "# k-fold cross validation\n",
    "k = 5\n",
    "results = collections.defaultdict(dict)\n",
    "models = ['bag_of_words', 'stop_words', 'bigram', \\\n",
    "          'best_words', 'bigram_best_words']\n",
    "\n",
    "for model_name in models:\n",
    "    results[model_name]['accuracy'] = []\n",
    "    results[model_name]['pos_precision'] = []\n",
    "    results[model_name]['pos_recall'] = []\n",
    "    results[model_name]['neg_precision'] = []\n",
    "    results[model_name]['neg_recall'] = []"
   ]
  },
  {
   "cell_type": "code",
   "execution_count": 224,
   "metadata": {
    "collapsed": false
   },
   "outputs": [
    {
     "name": "stdout",
     "output_type": "stream",
     "text": [
      "Train on 1200 instances, test on 300 instances\n",
      "0. BAG_OF_WORDS\n",
      "0. STOP_WORDS\n",
      "0. BIGRAM\n",
      "0. BEST_WORDS\n",
      "0. BIGRAM_BEST_WORDS\n",
      "Train on 1200 instances, test on 300 instances\n",
      "1. BAG_OF_WORDS\n",
      "1. STOP_WORDS\n",
      "1. BIGRAM\n",
      "1. BEST_WORDS\n",
      "1. BIGRAM_BEST_WORDS\n",
      "Train on 1200 instances, test on 300 instances\n",
      "2. BAG_OF_WORDS\n",
      "2. STOP_WORDS\n",
      "2. BIGRAM\n",
      "2. BEST_WORDS\n",
      "2. BIGRAM_BEST_WORDS\n",
      "Train on 1200 instances, test on 300 instances\n",
      "3. BAG_OF_WORDS\n",
      "3. STOP_WORDS\n",
      "3. BIGRAM\n",
      "3. BEST_WORDS\n",
      "3. BIGRAM_BEST_WORDS\n",
      "Train on 1200 instances, test on 300 instances\n",
      "4. BAG_OF_WORDS\n",
      "4. STOP_WORDS\n",
      "4. BIGRAM\n",
      "4. BEST_WORDS\n",
      "4. BIGRAM_BEST_WORDS\n"
     ]
    }
   ],
   "source": [
    "for i in range(0, k):\n",
    "    # Split developing data set: training vs testing\n",
    "    neg_train, neg_test = train_test_split(neg_develop, test_size=1/k)\n",
    "    pos_train, pos_test = train_test_split(pos_develop, test_size=1/k)    \n",
    "    best_words = get_best_words(neg_train, pos_train, 10000)\n",
    "    \n",
    "    num_train = len(neg_train) + len(pos_train)\n",
    "    num_test = len(neg_test) + len(pos_test)    \n",
    "    print(str(i) + '. Train on %d instances, test on %d instances' % (num_train, num_test)) \n",
    "    \n",
    "    model_name = 'bag_of_words'\n",
    "    print(model_name.upper())   \n",
    "    accuracy, pos_precision, pos_recall, neg_precision, neg_recall = \\\n",
    "    evaluate_classifier(word_feats,                         \n",
    "                        negtrain = neg_train,\n",
    "                        negtest = neg_test,\n",
    "                        postrain = pos_train, \n",
    "                        postest = pos_test,\n",
    "                        bestwords = best_words)\n",
    "    results[model_name]['accuracy'].append(accuracy)\n",
    "    results[model_name]['pos_precision'].append(pos_precision)\n",
    "    results[model_name]['pos_recall'].append(pos_recall)\n",
    "    results[model_name]['neg_precision'].append(neg_precision)\n",
    "    results[model_name]['neg_recall'].append(neg_recall)  \n",
    "    \n",
    "    model_name = 'stop_words'\n",
    "    print(model_name.upper()) \n",
    "    accuracy, pos_precision, pos_recall, neg_precision, neg_recall = \\\n",
    "    evaluate_classifier(stopword_filtered_word_feats,                         \n",
    "                        negtrain = neg_train,\n",
    "                        negtest = neg_test,\n",
    "                        postrain = pos_train, \n",
    "                        postest = pos_test,\n",
    "                        bestwords = best_words)\n",
    "    results[model_name]['accuracy'].append(accuracy)\n",
    "    results[model_name]['pos_precision'].append(pos_precision)\n",
    "    results[model_name]['pos_recall'].append(pos_recall)\n",
    "    results[model_name]['neg_precision'].append(neg_precision)\n",
    "    results[model_name]['neg_recall'].append(neg_recall)  \n",
    "    \n",
    "    model_name = 'bigram'\n",
    "    print(model_name.upper()) \n",
    "    accuracy, pos_precision, pos_recall, neg_precision, neg_recall = \\\n",
    "    evaluate_classifier(bigram_word_feats,                         \n",
    "                        negtrain = neg_train,\n",
    "                        negtest = neg_test,\n",
    "                        postrain = pos_train, \n",
    "                        postest = pos_test,\n",
    "                        bestwords = best_words)\n",
    "    results[model_name]['accuracy'].append(accuracy)\n",
    "    results[model_name]['pos_precision'].append(pos_precision)\n",
    "    results[model_name]['pos_recall'].append(pos_recall)\n",
    "    results[model_name]['neg_precision'].append(neg_precision)\n",
    "    results[model_name]['neg_recall'].append(neg_recall) \n",
    "    \n",
    "    model_name = 'best_words'    \n",
    "    print(model_name.upper()) \n",
    "    accuracy, pos_precision, pos_recall, neg_precision, neg_recall = \\\n",
    "    evaluate_classifier(best_word_feats,                        \n",
    "                        negtrain = neg_train,\n",
    "                        negtest = neg_test,\n",
    "                        postrain = pos_train, \n",
    "                        postest = pos_test,\n",
    "                        bestwords = best_words)    \n",
    "    results[model_name]['accuracy'].append(accuracy)\n",
    "    results[model_name]['pos_precision'].append(pos_precision)\n",
    "    results[model_name]['pos_recall'].append(pos_recall)\n",
    "    results[model_name]['neg_precision'].append(neg_precision)\n",
    "    results[model_name]['neg_recall'].append(neg_recall) \n",
    "    \n",
    "    model_name = 'bigram_best_words'\n",
    "    print(model_name.upper()) \n",
    "    accuracy, pos_precision, pos_recall, neg_precision, neg_recall = \\\n",
    "    evaluate_classifier(best_bigram_word_feats,                         \n",
    "                        negtrain = neg_train,\n",
    "                        negtest = neg_test,\n",
    "                        postrain = pos_train, \n",
    "                        postest = pos_test,\n",
    "                        bestwords = best_words)\n",
    "    results[model_name]['accuracy'].append(accuracy)\n",
    "    results[model_name]['pos_precision'].append(pos_precision)\n",
    "    results[model_name]['pos_recall'].append(pos_recall)\n",
    "    results[model_name]['neg_precision'].append(neg_precision)\n",
    "    results[model_name]['neg_recall'].append(neg_recall) "
   ]
  },
  {
   "cell_type": "code",
   "execution_count": 254,
   "metadata": {
    "collapsed": false
   },
   "outputs": [
    {
     "data": {
      "text/html": [
       "<div>\n",
       "<table border=\"1\" class=\"dataframe\">\n",
       "  <thead>\n",
       "    <tr style=\"text-align: right;\">\n",
       "      <th></th>\n",
       "      <th>pos_precision</th>\n",
       "      <th>neg_recall</th>\n",
       "      <th>pos_recall</th>\n",
       "      <th>neg_precision</th>\n",
       "      <th>accuracy</th>\n",
       "    </tr>\n",
       "  </thead>\n",
       "  <tbody>\n",
       "    <tr>\n",
       "      <th>bag_of_words</th>\n",
       "      <td>0.673313</td>\n",
       "      <td>0.528889</td>\n",
       "      <td>0.965556</td>\n",
       "      <td>0.941721</td>\n",
       "      <td>0.747222</td>\n",
       "    </tr>\n",
       "    <tr>\n",
       "      <th>best_words</th>\n",
       "      <td>0.738440</td>\n",
       "      <td>0.669333</td>\n",
       "      <td>0.933333</td>\n",
       "      <td>0.910706</td>\n",
       "      <td>0.801333</td>\n",
       "    </tr>\n",
       "    <tr>\n",
       "      <th>bigram</th>\n",
       "      <td>0.749924</td>\n",
       "      <td>0.688889</td>\n",
       "      <td>0.933333</td>\n",
       "      <td>0.912427</td>\n",
       "      <td>0.811111</td>\n",
       "    </tr>\n",
       "    <tr>\n",
       "      <th>bigram_best_words</th>\n",
       "      <td>0.787113</td>\n",
       "      <td>0.760000</td>\n",
       "      <td>0.886667</td>\n",
       "      <td>0.870391</td>\n",
       "      <td>0.823333</td>\n",
       "    </tr>\n",
       "    <tr>\n",
       "      <th>stop_words</th>\n",
       "      <td>0.662581</td>\n",
       "      <td>0.506667</td>\n",
       "      <td>0.965556</td>\n",
       "      <td>0.939124</td>\n",
       "      <td>0.736111</td>\n",
       "    </tr>\n",
       "  </tbody>\n",
       "</table>\n",
       "</div>"
      ],
      "text/plain": [
       "                   pos_precision  neg_recall  pos_recall  neg_precision  \\\n",
       "bag_of_words            0.673313    0.528889    0.965556       0.941721   \n",
       "best_words              0.738440    0.669333    0.933333       0.910706   \n",
       "bigram                  0.749924    0.688889    0.933333       0.912427   \n",
       "bigram_best_words       0.787113    0.760000    0.886667       0.870391   \n",
       "stop_words              0.662581    0.506667    0.965556       0.939124   \n",
       "\n",
       "                   accuracy  \n",
       "bag_of_words       0.747222  \n",
       "best_words         0.801333  \n",
       "bigram             0.811111  \n",
       "bigram_best_words  0.823333  \n",
       "stop_words         0.736111  "
      ]
     },
     "execution_count": 254,
     "metadata": {},
     "output_type": "execute_result"
    }
   ],
   "source": [
    "# Choose Best Features\n",
    "best_features = collections.defaultdict(dict)\n",
    "for model_name in models:\n",
    "    best_features[model_name]['accuracy'] = mean(results[model_name]['accuracy'])\n",
    "    best_features[model_name]['pos_precision'] = mean(results[model_name]['pos_precision'])\n",
    "    best_features[model_name]['pos_recall'] = mean(results[model_name]['pos_recall'])\n",
    "    best_features[model_name]['neg_precision'] = mean(results[model_name]['neg_precision'])\n",
    "    best_features[model_name]['neg_recall'] = mean(results[model_name]['neg_recall'])\n",
    "\n",
    "pd.DataFrame.from_dict({(i): best_features[i]  \n",
    "                        for i in best_features.keys()}, \n",
    "                       orient='index')"
   ]
  },
  {
   "cell_type": "markdown",
   "metadata": {},
   "source": [
    "# BEST MODEL: TRAIN ON FULL DEVELOPING DATA SET, TEST ON VALIDATION SET"
   ]
  },
  {
   "cell_type": "code",
   "execution_count": 256,
   "metadata": {
    "collapsed": false
   },
   "outputs": [
    {
     "name": "stdout",
     "output_type": "stream",
     "text": [
      "Train on 1500 instances, test on 500 instances\n",
      "4. BIGRAM_BEST_WORDS\n",
      "accuracy:0.818\n",
      "pos precision:0.8192771084337349\n",
      "pos recall:0.816\n",
      "neg precision:0.8167330677290837\n",
      "neg recall:0.82\n",
      "Most Informative Features\n",
      "               ludicrous = True              neg : pos    =     19.7 : 1.0\n",
      "      ('even', 'better') = True              pos : neg    =     15.0 : 1.0\n",
      "             exceptional = True              pos : neg    =     13.7 : 1.0\n",
      "                   sucks = True              neg : pos    =     13.0 : 1.0\n",
      "               insulting = True              neg : pos    =     13.0 : 1.0\n",
      "              philosophy = True              pos : neg    =     12.3 : 1.0\n",
      "     ('saving', 'grace') = True              neg : pos    =     11.7 : 1.0\n",
      "                  avoids = True              pos : neg    =     11.7 : 1.0\n",
      "  ('title', 'character') = True              pos : neg    =     11.7 : 1.0\n",
      "         ('shows', 'us') = True              pos : neg    =     11.0 : 1.0\n"
     ]
    }
   ],
   "source": [
    "best_words = get_best_words(neg_develop, pos_develop, 10000)\n",
    "num_train = len(neg_develop) + len(pos_develop)\n",
    "num_test = len(neg_val) + len(pos_val)    \n",
    "\n",
    "print('Train on %d instances, test on %d instances' % (num_train, num_test)) \n",
    "\n",
    "model_name = 'bigram_best_words'\n",
    "print(str(i) + '. ' + model_name.upper()) \n",
    "evaluate_classifier_original(best_bigram_word_feats,\n",
    "                             negtrain = neg_develop,\n",
    "                             negtest = neg_val,\n",
    "                             postrain = pos_develop, \n",
    "                             postest = pos_val,\n",
    "                             bestwords = best_words)"
   ]
  },
  {
   "cell_type": "code",
   "execution_count": null,
   "metadata": {
    "collapsed": false
   },
   "outputs": [],
   "source": []
  },
  {
   "cell_type": "code",
   "execution_count": null,
   "metadata": {
    "collapsed": false
   },
   "outputs": [],
   "source": []
  },
  {
   "cell_type": "code",
   "execution_count": null,
   "metadata": {
    "collapsed": true
   },
   "outputs": [],
   "source": []
  },
  {
   "cell_type": "code",
   "execution_count": null,
   "metadata": {
    "collapsed": true
   },
   "outputs": [],
   "source": []
  }
 ],
 "metadata": {
  "kernelspec": {
   "display_name": "Python [kpn]",
   "language": "python",
   "name": "Python [kpn]"
  },
  "language_info": {
   "codemirror_mode": {
    "name": "ipython",
    "version": 3
   },
   "file_extension": ".py",
   "mimetype": "text/x-python",
   "name": "python",
   "nbconvert_exporter": "python",
   "pygments_lexer": "ipython3",
   "version": "3.4.5"
  }
 },
 "nbformat": 4,
 "nbformat_minor": 0
}
