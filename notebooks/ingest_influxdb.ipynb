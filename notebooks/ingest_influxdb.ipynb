{
 "cells": [
  {
   "cell_type": "markdown",
   "metadata": {},
   "source": [
    "# Dataset for ingestin in InfluxDB"
   ]
  },
  {
   "cell_type": "code",
   "execution_count": 7,
   "metadata": {
    "collapsed": false
   },
   "outputs": [],
   "source": [
    "from numpy import mean\n",
    "import pandas as pd\n",
    "import json\n",
    "from string import punctuation\n",
    "import datetime"
   ]
  },
  {
   "cell_type": "code",
   "execution_count": 8,
   "metadata": {
    "collapsed": false
   },
   "outputs": [],
   "source": [
    "# Load raw data\n",
    "file_name = '../data/rawdata_20170620.json'\n",
    "with open(file_name) as json_data:\n",
    "    data = json.load(json_data)"
   ]
  },
  {
   "cell_type": "code",
   "execution_count": 9,
   "metadata": {
    "collapsed": false
   },
   "outputs": [
    {
     "data": {
      "text/plain": [
       "((2239, 8),)"
      ]
     },
     "execution_count": 9,
     "metadata": {},
     "output_type": "execute_result"
    }
   ],
   "source": [
    "df = pd.DataFrame(data)\n",
    "df.shape, "
   ]
  },
  {
   "cell_type": "markdown",
   "metadata": {},
   "source": [
    "## Prepare data"
   ]
  },
  {
   "cell_type": "code",
   "execution_count": 10,
   "metadata": {
    "collapsed": false,
    "scrolled": true
   },
   "outputs": [
    {
     "data": {
      "text/plain": [
       "(2219, 8)"
      ]
     },
     "execution_count": 10,
     "metadata": {},
     "output_type": "execute_result"
    }
   ],
   "source": [
    "# Remove duplicates\n",
    "df = df.drop_duplicates()\n",
    "df.shape"
   ]
  },
  {
   "cell_type": "code",
   "execution_count": 11,
   "metadata": {
    "collapsed": false,
    "scrolled": true
   },
   "outputs": [
    {
     "data": {
      "text/html": [
       "<div>\n",
       "<table border=\"1\" class=\"dataframe\">\n",
       "  <thead>\n",
       "    <tr style=\"text-align: right;\">\n",
       "      <th></th>\n",
       "      <th>answer</th>\n",
       "      <th>date</th>\n",
       "      <th>stars</th>\n",
       "      <th>text</th>\n",
       "      <th>title</th>\n",
       "      <th>user</th>\n",
       "      <th>user_id</th>\n",
       "      <th>verify</th>\n",
       "    </tr>\n",
       "  </thead>\n",
       "  <tbody>\n",
       "    <tr>\n",
       "      <th>0</th>\n",
       "      <td>None</td>\n",
       "      <td>2017-06-20 20:22:59</td>\n",
       "      <td>3</td>\n",
       "      <td>Missing a few issues. Export phone listMore he...</td>\n",
       "      <td>Missing a few issues</td>\n",
       "      <td>Otto</td>\n",
       "      <td>594984220000ff000aa60f48</td>\n",
       "      <td>True</td>\n",
       "    </tr>\n",
       "    <tr>\n",
       "      <th>1</th>\n",
       "      <td>Hello JL,I have already located your complaint...</td>\n",
       "      <td>2017-06-20 02:38:57</td>\n",
       "      <td>1</td>\n",
       "      <td>Purchased 100 minutes as advertised, but after...</td>\n",
       "      <td>Its a scam, please avoid</td>\n",
       "      <td>JL</td>\n",
       "      <td>55fc31370000ff0001dcc729</td>\n",
       "      <td>False</td>\n",
       "    </tr>\n",
       "  </tbody>\n",
       "</table>\n",
       "</div>"
      ],
      "text/plain": [
       "                                              answer                 date  \\\n",
       "0                                               None  2017-06-20 20:22:59   \n",
       "1  Hello JL,I have already located your complaint...  2017-06-20 02:38:57   \n",
       "\n",
       "   stars                                               text  \\\n",
       "0      3  Missing a few issues. Export phone listMore he...   \n",
       "1      1  Purchased 100 minutes as advertised, but after...   \n",
       "\n",
       "                      title  user                   user_id verify  \n",
       "0      Missing a few issues  Otto  594984220000ff000aa60f48   True  \n",
       "1  Its a scam, please avoid    JL  55fc31370000ff0001dcc729  False  "
      ]
     },
     "execution_count": 11,
     "metadata": {},
     "output_type": "execute_result"
    }
   ],
   "source": [
    "df.head(2)"
   ]
  },
  {
   "cell_type": "code",
   "execution_count": 12,
   "metadata": {
    "collapsed": false
   },
   "outputs": [],
   "source": [
    "# Convert datetime to timestamp\n",
    "df = df.assign(timestamp = [datetime.datetime.strptime(x, '%Y-%m-%d %H:%M:%S').timestamp() \\\n",
    "                            for x in df['date']])"
   ]
  },
  {
   "cell_type": "code",
   "execution_count": 30,
   "metadata": {
    "collapsed": false
   },
   "outputs": [],
   "source": [
    "# Answered if there is an answer, an unanswered otherwise\n",
    "def been_answered(x):\n",
    "    if x is not None:\n",
    "        ans = 'answered'\n",
    "    else:\n",
    "        ans = 'unanswered'\n",
    "    return ans\n",
    "\n",
    "df = df.assign(answered = [been_answered(x) for x in df['answer']])"
   ]
  },
  {
   "cell_type": "code",
   "execution_count": 31,
   "metadata": {
    "collapsed": true
   },
   "outputs": [],
   "source": [
    "# Verified if invited by Rebtel, an unverified otherwise\n",
    "def been_verified(x):\n",
    "    if x:\n",
    "        ans = 'verified'\n",
    "    else:\n",
    "        ans = 'unverified'\n",
    "    return ans\n",
    "\n",
    "df = df.assign(verified = [been_verified(x) for x in df['verify']])"
   ]
  },
  {
   "cell_type": "code",
   "execution_count": 29,
   "metadata": {
    "collapsed": false
   },
   "outputs": [
    {
     "data": {
      "text/html": [
       "<div>\n",
       "<table border=\"1\" class=\"dataframe\">\n",
       "  <thead>\n",
       "    <tr style=\"text-align: right;\">\n",
       "      <th></th>\n",
       "      <th>answer</th>\n",
       "      <th>date</th>\n",
       "      <th>stars</th>\n",
       "      <th>text</th>\n",
       "      <th>title</th>\n",
       "      <th>user</th>\n",
       "      <th>user_id</th>\n",
       "      <th>verify</th>\n",
       "      <th>timestamp</th>\n",
       "      <th>answered</th>\n",
       "      <th>verified</th>\n",
       "    </tr>\n",
       "  </thead>\n",
       "  <tbody>\n",
       "    <tr>\n",
       "      <th>0</th>\n",
       "      <td>None</td>\n",
       "      <td>2017-06-20 20:22:59</td>\n",
       "      <td>3</td>\n",
       "      <td>Missing a few issues. Export phone listMore he...</td>\n",
       "      <td>Missing a few issues</td>\n",
       "      <td>Otto</td>\n",
       "      <td>594984220000ff000aa60f48</td>\n",
       "      <td>True</td>\n",
       "      <td>1.497983e+09</td>\n",
       "      <td>unanswered</td>\n",
       "      <td>verified</td>\n",
       "    </tr>\n",
       "    <tr>\n",
       "      <th>1</th>\n",
       "      <td>Hello JL,I have already located your complaint...</td>\n",
       "      <td>2017-06-20 02:38:57</td>\n",
       "      <td>1</td>\n",
       "      <td>Purchased 100 minutes as advertised, but after...</td>\n",
       "      <td>Its a scam, please avoid</td>\n",
       "      <td>JL</td>\n",
       "      <td>55fc31370000ff0001dcc729</td>\n",
       "      <td>False</td>\n",
       "      <td>1.497919e+09</td>\n",
       "      <td>answered</td>\n",
       "      <td>unverified</td>\n",
       "    </tr>\n",
       "    <tr>\n",
       "      <th>2</th>\n",
       "      <td>Hi Gaurav,We’re sorry to hear you got discoura...</td>\n",
       "      <td>2017-06-18 08:18:32</td>\n",
       "      <td>1</td>\n",
       "      <td>I was about to subscribe for their service.. B...</td>\n",
       "      <td>I was about to subscribe for their …</td>\n",
       "      <td>Gaurav Singh</td>\n",
       "      <td>5946374e0000ff000aa505da</td>\n",
       "      <td>False</td>\n",
       "      <td>1.497767e+09</td>\n",
       "      <td>answered</td>\n",
       "      <td>unverified</td>\n",
       "    </tr>\n",
       "  </tbody>\n",
       "</table>\n",
       "</div>"
      ],
      "text/plain": [
       "                                              answer                 date  \\\n",
       "0                                               None  2017-06-20 20:22:59   \n",
       "1  Hello JL,I have already located your complaint...  2017-06-20 02:38:57   \n",
       "2  Hi Gaurav,We’re sorry to hear you got discoura...  2017-06-18 08:18:32   \n",
       "\n",
       "   stars                                               text  \\\n",
       "0      3  Missing a few issues. Export phone listMore he...   \n",
       "1      1  Purchased 100 minutes as advertised, but after...   \n",
       "2      1  I was about to subscribe for their service.. B...   \n",
       "\n",
       "                                  title          user  \\\n",
       "0                  Missing a few issues          Otto   \n",
       "1              Its a scam, please avoid            JL   \n",
       "2  I was about to subscribe for their …  Gaurav Singh   \n",
       "\n",
       "                    user_id verify     timestamp    answered    verified  \n",
       "0  594984220000ff000aa60f48   True  1.497983e+09  unanswered    verified  \n",
       "1  55fc31370000ff0001dcc729  False  1.497919e+09    answered  unverified  \n",
       "2  5946374e0000ff000aa505da  False  1.497767e+09    answered  unverified  "
      ]
     },
     "execution_count": 29,
     "metadata": {},
     "output_type": "execute_result"
    }
   ],
   "source": [
    "df.head(3)"
   ]
  },
  {
   "cell_type": "code",
   "execution_count": 32,
   "metadata": {
    "collapsed": false
   },
   "outputs": [],
   "source": [
    "# Preamble of ingestion file\n",
    "mydb = 'reviews'\n",
    "myretention = 'cienday'\n",
    "myduration = str(100)\n",
    "myreplication = str(1)\n",
    "\n",
    "\n",
    "line0 = '# DDL\\n'\n",
    "line1 = '# CREATE DATABASE ' + mydb + '\\n'\n",
    "line2 = '# CREATE RETENTION POLICY ' +  myretention + \\\n",
    "              ' ON ' + mydb + \\\n",
    "              ' DURATION ' + myduration + \\\n",
    "              'd REPLICATION ' + myreplication + ' DEFAULT\\n\\n' \n",
    "line3 = '# DML\\n'\n",
    "line4 = '# CONTEXT-DATABASE: ' + mydb + '\\n'\n",
    "line5 = '# CONTEXT-RETENTION-POLICY: ' + myretention + '\\n\\n'\n"
   ]
  },
  {
   "cell_type": "markdown",
   "metadata": {},
   "source": [
    "## Save data"
   ]
  },
  {
   "cell_type": "code",
   "execution_count": 33,
   "metadata": {
    "collapsed": false
   },
   "outputs": [],
   "source": [
    "file_name = '../data/reviews_influxDB2.txt'\n",
    "with open(file_name, 'w') as f:\n",
    "    f.write(line0) \n",
    "    f.write(line1)\n",
    "    f.write(line2)\n",
    "    f.write(line3)\n",
    "    f.write(line4)\n",
    "    f.write(line5)\n",
    "    for i in range(0, df.shape[0]):\n",
    "        line = 'review,answered=%s,verified=%s,stars=%s rating=%s,value=1 %s\\n' % \\\n",
    "        (df.answered[i], df.verified[i], df.stars[i], df.stars[i], int(df.timestamp[i]))\n",
    "        f.write(line)\n",
    "            "
   ]
  },
  {
   "cell_type": "code",
   "execution_count": null,
   "metadata": {
    "collapsed": true
   },
   "outputs": [],
   "source": []
  }
 ],
 "metadata": {
  "kernelspec": {
   "display_name": "Python [kpn]",
   "language": "python",
   "name": "Python [kpn]"
  },
  "language_info": {
   "codemirror_mode": {
    "name": "ipython",
    "version": 3
   },
   "file_extension": ".py",
   "mimetype": "text/x-python",
   "name": "python",
   "nbconvert_exporter": "python",
   "pygments_lexer": "ipython3",
   "version": "3.4.5"
  }
 },
 "nbformat": 4,
 "nbformat_minor": 0
}
